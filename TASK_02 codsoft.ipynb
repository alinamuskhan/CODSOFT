{
  "nbformat": 4,
  "nbformat_minor": 0,
  "metadata": {
    "colab": {
      "provenance": []
    },
    "kernelspec": {
      "name": "python3",
      "display_name": "Python 3"
    },
    "language_info": {
      "name": "python"
    }
  },
  "cells": [
    {
      "cell_type": "code",
      "execution_count": 8,
      "metadata": {
        "colab": {
          "base_uri": "https://localhost:8080/"
        },
        "id": "8MN5gjq0Tt_V",
        "outputId": "2ace198b-c912-4eb9-fe2d-1fa15a32d08f"
      },
      "outputs": [
        {
          "output_type": "stream",
          "name": "stdout",
          "text": [
            "Failed to read the file with utf-8 encoding. Error: 'utf-8' codec can't decode byte 0xe9 in position 3: invalid continuation byte\n",
            "Successfully read the file with latin1 encoding.\n",
            "                                 Name    Year Duration            Genre  \\\n",
            "0                                         NaN      NaN            Drama   \n",
            "1  #Gadhvi (He thought he was Gandhi)  (2019)  109 min            Drama   \n",
            "2                         #Homecoming  (2021)   90 min   Drama, Musical   \n",
            "3                             #Yaaram  (2019)  110 min  Comedy, Romance   \n",
            "4                   ...And Once Again  (2010)  105 min            Drama   \n",
            "\n",
            "   Rating Votes            Director       Actor 1             Actor 2  \\\n",
            "0     NaN   NaN       J.S. Randhawa      Manmauji              Birbal   \n",
            "1     7.0     8       Gaurav Bakshi  Rasika Dugal      Vivek Ghamande   \n",
            "2     NaN   NaN  Soumyajit Majumdar  Sayani Gupta   Plabita Borthakur   \n",
            "3     4.4    35          Ovais Khan       Prateik          Ishita Raj   \n",
            "4     NaN   NaN        Amol Palekar  Rajat Kapoor  Rituparna Sengupta   \n",
            "\n",
            "           Actor 3  \n",
            "0  Rajendra Bhatia  \n",
            "1    Arvind Jangid  \n",
            "2       Roy Angana  \n",
            "3  Siddhant Kapoor  \n",
            "4      Antara Mali  \n",
            "Mean Absolute Error: 1.238794701986755\n",
            "Root Mean Squared Error: 1.4844104053985974\n"
          ]
        }
      ],
      "source": [
        "import pandas as pd\n",
        "from sklearn.model_selection import train_test_split\n",
        "from sklearn.ensemble import RandomForestRegressor\n",
        "from sklearn.metrics import mean_absolute_error, mean_squared_error\n",
        "import numpy as np\n",
        "\n",
        "# Load dataset\n",
        "encodings = ['utf-8', 'latin1', 'ISO-8859-1']\n",
        "\n",
        "for enc in encodings:\n",
        "    try:\n",
        "        data = pd.read_csv('/content/IMDb Movies India.csv', encoding=enc)\n",
        "        print(f\"Successfully read the file with {enc} encoding.\")\n",
        "        break\n",
        "    except UnicodeDecodeError as e:\n",
        "        print(f\"Failed to read the file with {enc} encoding. Error: {e}\")\n",
        "\n",
        "# Display the first few rows of the dataset\n",
        "print(data.head())\n",
        "\n",
        "# Data Preprocessing\n",
        "# Keep only the necessary columns\n",
        "data = data[['Name', 'Genre', 'Director', 'Actor 1', 'Actor 2', 'Actor 3', 'Rating']]\n",
        "\n",
        "# Drop rows with missing values\n",
        "data = data.dropna()\n",
        "\n",
        "# Combine actor columns into a single column\n",
        "data['Actors'] = data['Actor 1'] + ', ' + data['Actor 2'] + ', ' + data['Actor 3']\n",
        "\n",
        "# Drop the individual actor columns\n",
        "data = data.drop(['Actor 1', 'Actor 2', 'Actor 3'], axis=1)\n",
        "\n",
        "# One-hot encode categorical variables\n",
        "data = pd.get_dummies(data, columns=['Genre', 'Director', 'Actors'], drop_first=True)\n",
        "\n",
        "# Split data into features and labels\n",
        "X = data.drop(['Name', 'Rating'], axis=1)\n",
        "y = data['Rating']\n",
        "\n",
        "# Use a smaller sample of data for initial testing (optional)\n",
        "X_sample, _, y_sample, _ = train_test_split(X, y, train_size=0.1, random_state=42)\n",
        "\n",
        "# Split the sample into training and testing sets\n",
        "X_train, X_test, y_train, y_test = train_test_split(X_sample, y_sample, test_size=0.2, random_state=42)\n",
        "\n",
        "# Train the model with fewer trees and enable parallel processing\n",
        "model = RandomForestRegressor(n_estimators=100, n_jobs=-1, random_state=42)\n",
        "model.fit(X_train, y_train)\n",
        "\n",
        "# Make predictions\n",
        "predictions = model.predict(X_test)\n",
        "\n",
        "# Evaluate the model\n",
        "mae = mean_absolute_error(y_test, predictions)\n",
        "rmse = np.sqrt(mean_squared_error(y_test, predictions))\n",
        "\n",
        "print(f\"Mean Absolute Error: {mae}\")\n",
        "print(f\"Root Mean Squared Error: {rmse}\")\n"
      ]
    }
  ]
}